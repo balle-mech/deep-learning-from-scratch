{
 "cells": [
  {
   "cell_type": "markdown",
   "metadata": {},
   "source": [
    "# ニューラルネットワークの学習\n",
    "## この章で学べること\n",
    "- 活性化関数に値が滑らかに変化するシグモイド関数と急に変化するステップ関数を使用する違い"
   ]
  },
  {
   "cell_type": "markdown",
   "metadata": {},
   "source": [
    "## 輪読会メモ\n",
    "ポイント：データから汎化することが大事  \n",
    "- なぜ損失関数なのか、正答率ではないのか？\n",
    "  - 正答率で計算すると値が飛び飛びになり、微分と相性が悪い\n",
    "- 教科書の2乗和誤差の英語表記に誤り。\n",
    "- 交差エントロピーの良さは、勾配降下法と相性がいいから\n",
    "- 微分\n",
    "  - 数値微分\n",
    "\n",
    "Q.汎化はどこまですべき？　▶　やりたいことに対してどれだけ失敗が許されるところまで調整していく  "
   ]
  },
  {
   "cell_type": "markdown",
   "metadata": {},
   "source": [
    "## 前提知識\n",
    "### 正規化と標準化の違い\n",
    "正規化：データを0〜1の範囲にスケーリング  \n",
    "標準化：データを平均を0にし、標準偏差を1にスケーリング"
   ]
  },
  {
   "cell_type": "markdown",
   "metadata": {},
   "source": [
    "機械学習の目標：汎化能力の獲得  \n",
    "汎化能力：まだ見ぬデータに対しての能力\n",
    "\n",
    "## 機械学習とニューラルネットワークの違い\n",
    "- 機械学習\n",
    "  - アルゴリズムは機械が見つけ出し、特徴量を人間の手で設定\n",
    "- ニューラルネットワーク\n",
    "  - 特徴量までも機械が学習し、人がほぼ手を加えない\n",
    "  - メリット：解く問題に関係なく生データのまま学習できる"
   ]
  },
  {
   "cell_type": "markdown",
   "metadata": {},
   "source": [
    "## 損失関数\n",
    "### 2乗和誤差\n",
    "$$ E = \\frac{1}{2} \\sum_{i=1}^{N} (y_i - t_i)^2 $$\n",
    "\n",
    "( N ) はデータの総数  \n",
    "( y_i ) は予測値  \n",
    "( t_i ) は実際の値  "
   ]
  },
  {
   "cell_type": "code",
   "execution_count": 2,
   "metadata": {},
   "outputs": [],
   "source": [
    "import numpy as np\n",
    "\n",
    "# 2乗和誤差関数\n",
    "def sum_squared_error(y, t):\n",
    "    return 0.5*np.sum((y-t)**2)"
   ]
  },
  {
   "cell_type": "code",
   "execution_count": 3,
   "metadata": {},
   "outputs": [
    {
     "name": "stdout",
     "output_type": "stream",
     "text": [
      "2乗和誤差: 0.07000000000000002\n"
     ]
    }
   ],
   "source": [
    "# 予測値と実際の値のサンプルデータ\n",
    "y = np.array([0.1, 0.2, 0.7])\n",
    "t = np.array([0, 0, 1])\n",
    "\n",
    "# 2乗和誤差関数を試す\n",
    "error = sum_squared_error(y, t)\n",
    "print(f\"2乗和誤差: {error}\")"
   ]
  },
  {
   "cell_type": "markdown",
   "metadata": {},
   "source": [
    "### 交差エントロピー誤差\n",
    "勾配降下法と相性がいい\n",
    "\n",
    "$$ E = - \\sum_{i=1}^{N} t_i \\log y_i $$\n"
   ]
  },
  {
   "cell_type": "code",
   "execution_count": 5,
   "metadata": {},
   "outputs": [],
   "source": [
    "def cross_entropy_error(y, t):\n",
    "    delta = 1e-7\n",
    "    return -np.sum(t*np.log(y + delta))"
   ]
  },
  {
   "cell_type": "code",
   "execution_count": 6,
   "metadata": {},
   "outputs": [
    {
     "name": "stdout",
     "output_type": "stream",
     "text": [
      "クロスエントロピー誤差: 0.3566748010815999\n"
     ]
    }
   ],
   "source": [
    "error = cross_entropy_error(y, t)\n",
    "print(f'クロスエントロピー誤差: {error}')"
   ]
  },
  {
   "cell_type": "markdown",
   "metadata": {},
   "source": [
    "### ミニバッチ学習\n",
    "統計学でいう、母集団から標本を抽出するようなもの\n"
   ]
  },
  {
   "cell_type": "code",
   "execution_count": 8,
   "metadata": {},
   "outputs": [
    {
     "name": "stdout",
     "output_type": "stream",
     "text": [
      "(60000, 784)\n",
      "(60000, 10)\n"
     ]
    }
   ],
   "source": [
    "import sys, os\n",
    "sys.path.append(os.pardir)  # 親ディレクトリのファイルをインポートするための設定\n",
    "import numpy as np\n",
    "import pickle\n",
    "from dataset.mnist import load_mnist\n",
    "from common.functions import sigmoid, softmax\n",
    "\n",
    "\n",
    "(x_train, t_train), (x_test, t_test) = load_mnist(normalize=True, one_hot_label=True)\n",
    "\n",
    "print(x_train.shape)\n",
    "print(t_train.shape)\n"
   ]
  },
  {
   "cell_type": "code",
   "execution_count": 14,
   "metadata": {},
   "outputs": [
    {
     "name": "stdout",
     "output_type": "stream",
     "text": [
      "batch_mask: [40266 56233 36347 37273  5733 40720 52976 19608 32587  4244]\n"
     ]
    }
   ],
   "source": [
    "train_size = x_train.shape[0]\n",
    "batch_size = 10\n",
    "batch_mask = np.random.choice(train_size, batch_size)\n",
    "print(f'batch_mask: {batch_mask}')\n",
    "\n",
    "x_batch = x_train[batch_mask]\n",
    "t_batch = t_train[batch_mask]\n",
    "# print(f't_batch: {t_batch}')"
   ]
  },
  {
   "cell_type": "code",
   "execution_count": 20,
   "metadata": {},
   "outputs": [
    {
     "name": "stdout",
     "output_type": "stream",
     "text": [
      "array[[2, 5, 1]]: [ 5 43 12]\n"
     ]
    }
   ],
   "source": [
    "array = np.array([0, 12, 5, 7, 8, 43, 47])\n",
    "print(f'array[[2, 5, 1]]: {array[[2, 5, 1]]}')"
   ]
  },
  {
   "cell_type": "markdown",
   "metadata": {},
   "source": [
    "### ミニバッチに対応した交差エントロピー誤差を実装\n"
   ]
  }
 ],
 "metadata": {
  "kernelspec": {
   "display_name": "dl-from-scratch",
   "language": "python",
   "name": "python3"
  },
  "language_info": {
   "codemirror_mode": {
    "name": "ipython",
    "version": 3
   },
   "file_extension": ".py",
   "mimetype": "text/x-python",
   "name": "python",
   "nbconvert_exporter": "python",
   "pygments_lexer": "ipython3",
   "version": "3.12.7"
  }
 },
 "nbformat": 4,
 "nbformat_minor": 2
}
