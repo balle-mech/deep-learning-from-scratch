{
 "cells": [
  {
   "cell_type": "markdown",
   "metadata": {},
   "source": [
    "# 3章ニューラルネットワーク"
   ]
  },
  {
   "cell_type": "markdown",
   "metadata": {},
   "source": [
    "## パーセプトロンからニューラルネットワークへ\n",
    "### パーセプトロン  \n",
    "- パーセプトロンを複数用いることで複雑な処理を実装できる\n",
    "- 処理を実現するためのパラメータは自分で設定しないといけない\n",
    "\n",
    "### ニューラルネットワーク\n",
    "- パラメータをデータから自動調整できる\n",
    "- 大きく3つのレイヤーに分かれる\n",
    "  - 入力層、隠れ層、出力層\n"
   ]
  },
  {
   "cell_type": "markdown",
   "metadata": {},
   "source": [
    "### 活性化関数  \n",
    "入力信号の総和を出力信号に変換する関数のこと。  \n",
    "役割：入力信号の総和がどのように活性化するか **（発火するか）** を決める  \n",
    "\n",
    "■パーセプトロンの活性化関数  \n",
    "パーセプトロンの以下式で説明すると、活性化関数とは、h(x)のこと\n",
    "\n",
    "$$\n",
    "y = h(b + w_1 x_1 + w_2 x_2)\n",
    "$$\n",
    "$$\n",
    "h(x) =\n",
    "\\begin{cases}\n",
    "0 & (x \\leq 0) \\\\\n",
    "1 & (x > 0) \\\\\n",
    "\\end{cases}\n",
    "$$\n",
    "\n",
    "パーセプトロンに使われている、上式のような活性化関数はステップ関数という。  \n",
    "閾値によって０か１かはっきり分かれる様をグラフで表したときに、ステップ（階段）のようになるのが名前の由来かなと思う。  \n",
    "活性化関数はこれだけでなく、よく使われるものとしてシグモイド関数がある。  \n",
    "これについては後述する。"
   ]
  },
  {
   "cell_type": "markdown",
   "metadata": {},
   "source": [
    "### ステップ関数をコードで実装・グラフ化"
   ]
  },
  {
   "cell_type": "code",
   "execution_count": 7,
   "metadata": {},
   "outputs": [
    {
     "name": "stdout",
     "output_type": "stream",
     "text": [
      "step(0)= 0\n"
     ]
    }
   ],
   "source": [
    "import numpy as np\n",
    "\n",
    "def step(x):\n",
    "    if x > 0:\n",
    "        return 1\n",
    "    else:\n",
    "        return 0\n",
    "\n",
    "print(f'step(0)= {step(0)}')"
   ]
  },
  {
   "cell_type": "markdown",
   "metadata": {},
   "source": [
    "単純にステップ関数を実装しようとすると、上コードのようになると思う。  \n",
    "続いて、このステップ関数をnumpy配列を入力値として扱えるようにする。  "
   ]
  },
  {
   "cell_type": "code",
   "execution_count": 13,
   "metadata": {},
   "outputs": [
    {
     "name": "stdout",
     "output_type": "stream",
     "text": [
      "step(x)= [0 1 0]\n"
     ]
    }
   ],
   "source": [
    "def step(x):\n",
    "    y =  x > 0\n",
    "    return x.astype(int)\n",
    "\n",
    "x = np.array([0, 1, 0.5])\n",
    "print(f'step(x)= {step(x)}')"
   ]
  },
  {
   "cell_type": "markdown",
   "metadata": {},
   "source": [
    "■上コードの解説  \n",
    "`.astype`：指定した型に変換することができる。  \n",
    "\n",
    "比較演算子により配列の値はboolean型になっているため、  \n",
    "これを使わないと以下のようにboolean値が返される。"
   ]
  },
  {
   "cell_type": "code",
   "execution_count": 12,
   "metadata": {},
   "outputs": [
    {
     "name": "stdout",
     "output_type": "stream",
     "text": [
      "astypeを使わなかったstep(x)= [False  True  True]\n"
     ]
    }
   ],
   "source": [
    "def step(x):\n",
    "    y = x > 0\n",
    "    return y\n",
    "\n",
    "print(f'astypeを使わなかったstep(x)= {step(x)}')"
   ]
  }
 ],
 "metadata": {
  "kernelspec": {
   "display_name": "dl-from-scratch",
   "language": "python",
   "name": "python3"
  },
  "language_info": {
   "codemirror_mode": {
    "name": "ipython",
    "version": 3
   },
   "file_extension": ".py",
   "mimetype": "text/x-python",
   "name": "python",
   "nbconvert_exporter": "python",
   "pygments_lexer": "ipython3",
   "version": "3.12.7"
  }
 },
 "nbformat": 4,
 "nbformat_minor": 2
}
