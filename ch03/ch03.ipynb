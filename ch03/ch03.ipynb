{
 "cells": [
  {
   "cell_type": "markdown",
   "metadata": {},
   "source": [
    "# 3章ニューラルネットワーク"
   ]
  },
  {
   "cell_type": "markdown",
   "metadata": {},
   "source": [
    "## パーセプトロンからニューラルネットワークへ\n",
    "■パーセプトロン  \n",
    "- パーセプトロンを複数用いることで複雑な処理を実装できる\n",
    "- 処理を実現するためのパラメータは自分で設定しないといけない\n",
    "\n",
    "■ニューラルネットワーク\n",
    "- パラメータをデータから自動調整できる\n",
    "- 大きく3つのレイヤーに分かれる\n",
    "  - 入力層、隠れ層、出力層"
   ]
  }
 ],
 "metadata": {
  "language_info": {
   "name": "python"
  }
 },
 "nbformat": 4,
 "nbformat_minor": 2
}
