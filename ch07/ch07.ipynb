{
 "cells": [
  {
   "cell_type": "markdown",
   "metadata": {
    "vscode": {
     "languageId": "plaintext"
    }
   },
   "source": [
    "1. 学習\n",
    "   1. データの前処理\n",
    "   2. 誤差を求める（損失関数）\n",
    "   3. 誤差を減らすために勾配の算出\n",
    "   4. パラメータの更新\n",
    "2. 推論"
   ]
  },
  {
   "cell_type": "markdown",
   "metadata": {},
   "source": [
    "# 畳み込みニューラルネットワーク(convolutional neural network : CNN)"
   ]
  },
  {
   "cell_type": "markdown",
   "metadata": {},
   "source": [
    "画像認識や音声認識で使われている"
   ]
  },
  {
   "cell_type": "markdown",
   "metadata": {},
   "source": [
    "## これまで扱ってきた全結合のネットワーク"
   ]
  },
  {
   "cell_type": "markdown",
   "metadata": {},
   "source": [
    "Affineレイヤを計算グラフで表す  \n",
    "\n",
    "```mermaid\n",
    "graph LR\n",
    "    A[X] --> B[dot]\n",
    "    B -->|X・W| C[＋]\n",
    "    C --> D[Y]\n",
    "    E[W] --> B\n",
    "    F[B] --> C\n",
    "\n",
    "    D -->|dL/dy = 1| C\n",
    "    C --> B\n",
    "    B --> A\n",
    "```\n",
    "MNISTデータセットを使ったときの、X dot W　を細かく見ると\n",
    "\n",
    "<img width=\"50%\" src=\"隣接するニューロン.png\">\n",
    "\n",
    "このように、これまでは、隣接するすべてのニューロン間で結合があった  \n",
    "\n",
    "全結合によるネットワーク像（例）\n",
    "```mermaid\n",
    "graph LR\n",
    "    A[2] ---> B[Affine]\n",
    "    B --> C[ReLU]\n",
    "    C ---> D[Affine]\n",
    "    D --> E[ReLU]\n",
    "    E ---> F[Affine]\n",
    "    F --> G[ReLU]\n",
    "    G ---> H[Affine]\n",
    "    H --> I[Softmax]\n",
    "```\n",
    "Softmaxレイヤで最終的な結果を出力する。\n",
    "\n",
    "\n",
    "***"
   ]
  },
  {
   "cell_type": "markdown",
   "metadata": {},
   "source": [
    "## CNNの全体の構造"
   ]
  },
  {
   "cell_type": "markdown",
   "metadata": {},
   "source": [
    "CNNは次の２つの層で構成されます。\n",
    "\n",
    "$$\n",
    "「Convolutionレイヤ（畳み込み層）」　＋　「Poolingレイヤ（プーリング層）」\n",
    "$$\n",
    "\n",
    "***\n",
    "\n",
    "#### CNNによるネットワークの例\n",
    "```mermaid\n",
    "graph LR\n",
    "    A[2] ---> B[Conv]\n",
    "    B --> C[ReLU]\n",
    "    C --> D[Pooling]\n",
    "    D ---> E[Conv]\n",
    "    E --> F[ReLU]\n",
    "    F --> G[Pooling]\n",
    "    G ---> H[Conv]\n",
    "    H --> I[ReLU]\n",
    "    I ---> J[Affine]\n",
    "    J --> K[ReLU]\n",
    "    K ---> L[Affine]\n",
    "    L --> M[Softmax]\n",
    "```"
   ]
  },
  {
   "cell_type": "markdown",
   "metadata": {},
   "source": [
    "### 全結合の問題点\n",
    "1. データの形状が無視されてしまう  \n",
    "MNISTのデータセットを使った際は、$28 \\times 28$ ピクセルの画像を、784個データにしてAffineに入力した  \n",
    "→　１次元のデータになおしてしまうので、２次元・３次元空間でのピクセルの近さなどの情報が含まれずに学習されてしまう。  \n",
    "\n",
    "例えばこのような猫をニューラルネットワークによって画像認識できるように学習したいとする。\n",
    "\n",
    "<img width=\"50%\" src=\"cat.png\">\n",
    "\n",
    "これを説明上わかりやすくするために、雑にピクセル化します。\n",
    "\n",
    "<img width=\"50%\" src=\"cut_cat.png\">\n",
    "\n",
    "これを１次元で学習するということは、下のような１列のデータを学習するということと近いと思います。\n",
    "\n",
    "<img width=\"50%\" src=\"1ndim_cat.png\">\n",
    "\n",
    "このように一列だと、猫の耳のピクセル値が行列のどこになるかは、画像全体に対する猫の位置やサイズにもよりそうです。  \n",
    "また、猫の顔全体に対するそれぞれのパーツの位置関係や形などの猫ならではの特徴が効果的に学習できなさそうなのは想像に易いと思います。\n",
    "\n",
    "話を全結合層に戻し、正確な表現をすると、  \n",
    "全結合層だと、形状を無視して、すべての入力データを同等のニューロン（同じ次元のニューロン）として扱うので、  \n",
    "下記のような３次元ならではの形状に関する情報を活かすことができません。\n",
    "\n",
    "- RGBの各チャンネル間の密接な関連性\n",
    "- ピクセルの距離\n",
    "\n",
    "\n",
    "<img width=\"50%\" src=\"angry_cat.png\">\n"
   ]
  },
  {
   "cell_type": "markdown",
   "metadata": {},
   "source": [
    "## 畳み込み層"
   ]
  },
  {
   "cell_type": "markdown",
   "metadata": {},
   "source": [
    "畳み込み層では、入力データを３次元で受け取り、３次元のデータとして出力できる。  \n",
    "そのため、CNNでは画像のような形状を持ったデータを正しく学習できる可能性があります。  \n",
    "\n",
    "■用語の説明  \n",
    "・畳み込み層の入出力データ：特徴マップ  \n",
    "・畳み込み層の入力データ：入力特徴マップ  \n",
    "・畳み込み層の出力データ：出力特徴マップ  "
   ]
  },
  {
   "cell_type": "markdown",
   "metadata": {},
   "source": [
    "### 畳み込み演算\n",
    "実際に畳み込み層で行われている畳み込み演算手順について説明します。\n",
    "\n",
    "#### 1. 入力データとフィルター（カーネル）の用意（縦横２次元の入力データとフィルター）\n",
    "<img width=\"50%\" src=\"入力データとフィルター.png\">\n",
    "\n",
    "\n",
    "\n",
    "#### 2. 一定の間隔でフィルターのウィンドウをスライドさせて畳み込み演算を行う\n",
    "<img width=\"50%\" src=\"フィルタースライド.png\">\n",
    "\n",
    "画像ではスライドの間隔を１にしてスライドしています。  \n",
    "この幅のことを**ストライド**といいます。\n",
    "\n",
    "演算方法  \n",
    "フィルターの要素と、対応する入力の要素を乗算し、その和を求める(積和演算)  \n",
    "\n",
    "<img width=\"50%\" src=\"畳み込み演算.png\">\n",
    "\n",
    "#### 3. バイアス\n",
    "\n",
    "- バイアスはつねにひとつ（1✕1）\n",
    "- すべての要素に加算される\n",
    "\n",
    "<img width=\"50%\" src=\"バイアス.png\">\n",
    "\n",
    "基本的な畳み込み演算の手順は以上になります。\n",
    "\n",
    "ただ、画像の通り(4, 4)のサイズの入力データが、畳み込み演算により、(2, 2)となっており、  \n",
    "データが縮小していることがわかります。  \n",
    "畳み込み演算を何度も繰り返すネットワークだと、いずれ出力サイズが1になってしまいそうです。  \n",
    "\n",
    "それを回避するための手法が次で紹介するパディングになります。"
   ]
  },
  {
   "cell_type": "markdown",
   "metadata": {},
   "source": [
    "### パディング\n",
    "\n",
    "入力データの周囲に固定のデータ(例えば0)を埋めること  \n",
    "\n",
    "<img width=\"50%\" src=\"パディング.png\">\n",
    "\n",
    "画像のように、畳み込み演算をしても、サイズを一定にしたまま次の層へデータを渡すことができる。"
   ]
  },
  {
   "cell_type": "markdown",
   "metadata": {},
   "source": [
    "### 畳み込み演算設定値の関係性を式で表してみる\n",
    "\n",
    "$$\n",
    "出力縦 = \\frac{入力縦幅 + 2 \\times パディング - フィルター縦幅}{ストライド} + 1\n",
    "$$\n",
    "\n",
    "$$\n",
    "出力横 = \\frac{入力横幅 + 2 \\times パディング - フィルター横幅}{ストライド} + 1\n",
    "$$\n",
    "\n",
    "※注意  \n",
    "それぞれ割り切れるように値を設定する必要がある。  \n",
    "割り切れないときは最も近い整数に丸めるなどしてエラーを出さずに先に進める実装もある"
   ]
  },
  {
   "cell_type": "markdown",
   "metadata": {},
   "source": [
    "### 3次元データの畳み込み演算"
   ]
  },
  {
   "cell_type": "markdown",
   "metadata": {},
   "source": [
    "### バッチ処理"
   ]
  },
  {
   "cell_type": "markdown",
   "metadata": {},
   "source": [
    "## プーリング層"
   ]
  },
  {
   "cell_type": "markdown",
   "metadata": {},
   "source": [
    "縦・横方向のサイズ・空間を小さくする演算"
   ]
  },
  {
   "cell_type": "markdown",
   "metadata": {},
   "source": [
    "### プーリング層の特徴"
   ]
  },
  {
   "cell_type": "markdown",
   "metadata": {},
   "source": [
    "- 学習するパラメータがない\n",
    "- チャンネル数は変化しない\n",
    "- 微小な変化に対して頑健（ロバスト）"
   ]
  },
  {
   "cell_type": "markdown",
   "metadata": {},
   "source": [
    "所感  \n",
    "mmaction2でも使われていそう"
   ]
  }
 ],
 "metadata": {
  "kernelspec": {
   "display_name": "dl-from-scratch",
   "language": "python",
   "name": "python3"
  },
  "language_info": {
   "codemirror_mode": {
    "name": "ipython",
    "version": 3
   },
   "file_extension": ".py",
   "mimetype": "text/x-python",
   "name": "python",
   "nbconvert_exporter": "python",
   "pygments_lexer": "ipython3",
   "version": "3.12.7"
  }
 },
 "nbformat": 4,
 "nbformat_minor": 2
}
